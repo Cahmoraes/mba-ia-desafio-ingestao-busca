{
 "cells": [
  {
   "cell_type": "code",
   "execution_count": null,
   "id": "0ba0cc15",
   "metadata": {},
   "outputs": [
    {
     "name": "stdout",
     "output_type": "stream",
     "text": [
      "<built-in method index of tuple object at 0x72881c13ba40>\n",
      "<built-in method index of tuple object at 0x72881c138880>\n"
     ]
    }
   ],
   "source": [
    "values = (10, 20)\n",
    "enumerated = enumerate(values)\n",
    "\n",
    "for item in enumerated:\n",
    "  print(item)"
   ]
  }
 ],
 "metadata": {
  "kernelspec": {
   "display_name": ".venv",
   "language": "python",
   "name": "python3"
  },
  "language_info": {
   "codemirror_mode": {
    "name": "ipython",
    "version": 3
   },
   "file_extension": ".py",
   "mimetype": "text/x-python",
   "name": "python",
   "nbconvert_exporter": "python",
   "pygments_lexer": "ipython3",
   "version": "3.10.12"
  }
 },
 "nbformat": 4,
 "nbformat_minor": 5
}
